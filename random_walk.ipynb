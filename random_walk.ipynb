{
 "cells": [
  {
   "cell_type": "code",
   "execution_count": null,
   "metadata": {},
   "outputs": [],
   "source": [
    "from random import choice\n",
    "class RandomWalk:\n",
    "  \"\"\"A class to generate random walks.\"\"\"\n",
    "  def __init__(self, num_points=5000):\n",
    "    \"\"\"Initialize attributes of a walk.\"\"\"\n",
    "    self.num_points = num_points\n",
    "    # All walks start at (0, 0).\n",
    "    self.x_values = [0]\n",
    "    self.y_values = [0]\n",
    "\n",
    "  def fill_walk(self):\n",
    "    \"\"\"Calculate all the points in the walk.\"\"\"\n",
    "    # Keep taking steps until the walk reaches the desired length.\n",
    "    while len(self.x_values) < self.num_points:\n",
    "      # Decide which direction to go, and how far to go.\n",
    "      x_direction = choice([1, -1])\n",
    "      x_distance = choice([0, 1, 2, 3, 4])\n",
    "      x_step = x_direction * x_distance\n",
    "      y_direction = choice([1, -1])\n",
    "      y_distance = choice([0, 1, 2, 3, 4])\n",
    "      y_step = y_direction * y_distance\n",
    "      # Reject moves that go nowhere.\n",
    "      if x_step == 0 and y_step == 0:\n",
    "        continue\n",
    "        # Calculate the new position.\n",
    "      x = self.x_values[-1] + x_step\n",
    "      y = self.y_values[-1] + y_step\n",
    "      self.x_values.append(x)\n",
    "      self.y_values.append(y)"
   ]
  }
 ],
 "metadata": {
  "kernelspec": {
   "display_name": "base",
   "language": "python",
   "name": "python3"
  },
  "language_info": {
   "name": "python",
   "version": "3.12.3"
  }
 },
 "nbformat": 4,
 "nbformat_minor": 2
}
